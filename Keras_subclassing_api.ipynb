{
 "cells": [
  {
   "attachments": {},
   "cell_type": "markdown",
   "metadata": {},
   "source": [
    "#Custom layers\n"
   ]
  },
  {
   "cell_type": "code",
   "execution_count": 3,
   "metadata": {
    "vscode": {
     "languageId": "python"
    }
   },
   "outputs": [
    {
     "name": "stderr",
     "output_type": "stream",
     "text": [
      "2023-05-10 12:56:08.359809: I tensorflow/core/platform/cpu_feature_guard.cc:182] This TensorFlow binary is optimized to use available CPU instructions in performance-critical operations.\n",
      "To enable the following instructions: AVX2 FMA, in other operations, rebuild TensorFlow with the appropriate compiler flags.\n",
      "2023-05-10 12:56:09.527895: W tensorflow/compiler/tf2tensorrt/utils/py_utils.cc:38] TF-TRT Warning: Could not find TensorRT\n",
      "2023-05-10 12:56:11.465241: I tensorflow/compiler/xla/stream_executor/cuda/cuda_gpu_executor.cc:982] could not open file to read NUMA node: /sys/bus/pci/devices/0000:01:00.0/numa_node\n",
      "Your kernel may have been built without NUMA support.\n",
      "2023-05-10 12:56:11.631783: I tensorflow/compiler/xla/stream_executor/cuda/cuda_gpu_executor.cc:982] could not open file to read NUMA node: /sys/bus/pci/devices/0000:01:00.0/numa_node\n",
      "Your kernel may have been built without NUMA support.\n",
      "2023-05-10 12:56:11.631847: I tensorflow/compiler/xla/stream_executor/cuda/cuda_gpu_executor.cc:982] could not open file to read NUMA node: /sys/bus/pci/devices/0000:01:00.0/numa_node\n",
      "Your kernel may have been built without NUMA support.\n",
      "2023-05-10 12:56:11.636388: I tensorflow/compiler/xla/stream_executor/cuda/cuda_gpu_executor.cc:982] could not open file to read NUMA node: /sys/bus/pci/devices/0000:01:00.0/numa_node\n",
      "Your kernel may have been built without NUMA support.\n",
      "2023-05-10 12:56:11.636458: I tensorflow/compiler/xla/stream_executor/cuda/cuda_gpu_executor.cc:982] could not open file to read NUMA node: /sys/bus/pci/devices/0000:01:00.0/numa_node\n",
      "Your kernel may have been built without NUMA support.\n",
      "2023-05-10 12:56:11.636487: I tensorflow/compiler/xla/stream_executor/cuda/cuda_gpu_executor.cc:982] could not open file to read NUMA node: /sys/bus/pci/devices/0000:01:00.0/numa_node\n",
      "Your kernel may have been built without NUMA support.\n",
      "2023-05-10 12:56:12.887664: I tensorflow/compiler/xla/stream_executor/cuda/cuda_gpu_executor.cc:982] could not open file to read NUMA node: /sys/bus/pci/devices/0000:01:00.0/numa_node\n",
      "Your kernel may have been built without NUMA support.\n",
      "2023-05-10 12:56:12.887740: I tensorflow/compiler/xla/stream_executor/cuda/cuda_gpu_executor.cc:982] could not open file to read NUMA node: /sys/bus/pci/devices/0000:01:00.0/numa_node\n",
      "Your kernel may have been built without NUMA support.\n",
      "2023-05-10 12:56:12.887749: I tensorflow/core/common_runtime/gpu/gpu_device.cc:1722] Could not identify NUMA node of platform GPU id 0, defaulting to 0.  Your kernel may not have been built with NUMA support.\n",
      "2023-05-10 12:56:12.887783: I tensorflow/compiler/xla/stream_executor/cuda/cuda_gpu_executor.cc:982] could not open file to read NUMA node: /sys/bus/pci/devices/0000:01:00.0/numa_node\n",
      "Your kernel may have been built without NUMA support.\n",
      "2023-05-10 12:56:12.887810: I tensorflow/core/common_runtime/gpu/gpu_device.cc:1635] Created device /job:localhost/replica:0/task:0/device:GPU:0 with 1562 MB memory:  -> device: 0, name: NVIDIA GeForce RTX 3050 Laptop GPU, pci bus id: 0000:01:00.0, compute capability: 8.6\n",
      "2023-05-10 12:56:14.735077: I tensorflow/compiler/xla/stream_executor/cuda/cuda_blas.cc:637] TensorFloat-32 will be used for the matrix multiplication. This will only be logged once.\n"
     ]
    },
    {
     "data": {
      "text/plain": [
       "<tf.Tensor: shape=(2, 4), dtype=float32, numpy=\n",
       "array([[ 0.00386332, -0.0395805 , -0.0519083 ,  0.09420031],\n",
       "       [ 0.00386332, -0.0395805 , -0.0519083 ,  0.09420031]],\n",
       "      dtype=float32)>"
      ]
     },
     "execution_count": 3,
     "metadata": {},
     "output_type": "execute_result"
    }
   ],
   "source": [
    "import tensorflow as tf\n",
    "\n",
    "from tensorflow import keras\n",
    "\n",
    "class Linear(keras.layers.Layer):\n",
    " def __init__(self, units=32,input_dim=32):\n",
    "  super(Linear, self).__init__()\n",
    "  self.units = units\n",
    "  #x_output = W*input +b\n",
    "  w_init = tf.random_normal_initializer()\n",
    "  self.w = tf.Variable(initial_value= w_init(shape=(input_dim,units),\n",
    "                       dtype='float32'), \n",
    "                       trainable=True)\n",
    "  b_init = tf.zeros_initializer()\n",
    "  self.b = tf.Variable(initial_value= b_init(shape=(units),\n",
    "                       dtype='float32'), \n",
    "                       trainable=True)\n",
    " def call (self, inputs):\n",
    "  return tf.matmul(inputs,self.w)+ self.b\n",
    " \n",
    "\n",
    "x = tf.ones((2,2))\n",
    "linear_layer = Linear(4,2)\n",
    "y= linear_layer(x)\n",
    "  \n",
    "y\n"
   ]
  },
  {
   "cell_type": "code",
   "execution_count": 4,
   "metadata": {
    "vscode": {
     "languageId": "python"
    }
   },
   "outputs": [
    {
     "data": {
      "text/plain": [
       "[<tf.Variable 'Variable:0' shape=(2, 4) dtype=float32, numpy=\n",
       " array([[-0.0280527 , -0.02730049, -0.045333  ,  0.03971083],\n",
       "        [ 0.03191602, -0.01228001, -0.0065753 ,  0.05448948]],\n",
       "       dtype=float32)>,\n",
       " <tf.Variable 'Variable:0' shape=(4,) dtype=float32, numpy=array([0., 0., 0., 0.], dtype=float32)>]"
      ]
     },
     "execution_count": 4,
     "metadata": {},
     "output_type": "execute_result"
    }
   ],
   "source": [
    "linear_layer.weights"
   ]
  },
  {
   "cell_type": "code",
   "execution_count": 5,
   "metadata": {
    "vscode": {
     "languageId": "python"
    }
   },
   "outputs": [
    {
     "data": {
      "text/plain": [
       "<tf.Variable 'Variable:0' shape=(2, 4) dtype=float32, numpy=\n",
       "array([[-0.0280527 , -0.02730049, -0.045333  ,  0.03971083],\n",
       "       [ 0.03191602, -0.01228001, -0.0065753 ,  0.05448948]],\n",
       "      dtype=float32)>"
      ]
     },
     "execution_count": 5,
     "metadata": {},
     "output_type": "execute_result"
    }
   ],
   "source": [
    "linear_layer.w"
   ]
  },
  {
   "cell_type": "code",
   "execution_count": 6,
   "metadata": {
    "vscode": {
     "languageId": "python"
    }
   },
   "outputs": [
    {
     "data": {
      "text/plain": [
       "<tf.Variable 'Variable:0' shape=(4,) dtype=float32, numpy=array([0., 0., 0., 0.], dtype=float32)>"
      ]
     },
     "execution_count": 6,
     "metadata": {},
     "output_type": "execute_result"
    }
   ],
   "source": [
    "linear_layer.b"
   ]
  },
  {
   "cell_type": "code",
   "execution_count": 7,
   "metadata": {
    "vscode": {
     "languageId": "python"
    }
   },
   "outputs": [],
   "source": [
    "class Linear(keras.layers.Layer):\n",
    " def __init__(self, units=32):\n",
    "  super(Linear, self).__init__()\n",
    "  self.units = units\n",
    " \n",
    " def build (self, input_shape):\n",
    "  #x_output  - w*input+b\n",
    "  w_init = tf.random_normal_initializer()\n",
    "  self.w = tf.Variable(initial_value=w_init(shape=(input_shape[-1], self.units),dtype='float32'),trainable=True)\n",
    "  b_init = tf.zeros_initializer()\n",
    "  self.b= tf.Variable(initial_value=b_init(shape=(self.units),dtype='float32'),trainable=True)\n",
    " def call(self,inputs):\n",
    "  return tf.matmul(inputs,self.w)+self.b\n",
    "  "
   ]
  },
  {
   "cell_type": "code",
   "execution_count": 8,
   "metadata": {
    "vscode": {
     "languageId": "python"
    }
   },
   "outputs": [
    {
     "data": {
      "text/plain": [
       "<tf.Tensor: shape=(2, 32), dtype=float32, numpy=\n",
       "array([[-0.02004499, -0.0234305 , -0.06891655,  0.03435662, -0.04713523,\n",
       "         0.1287213 , -0.02922139, -0.05122594, -0.01849775,  0.01359283,\n",
       "         0.0389331 ,  0.10808773, -0.04169225,  0.00024107, -0.03613696,\n",
       "         0.04782311,  0.01351454, -0.03063445, -0.10211923,  0.06917837,\n",
       "        -0.01689867, -0.04370299,  0.04687902,  0.10799699, -0.00135268,\n",
       "         0.08562245, -0.04749312, -0.05368543,  0.05826339,  0.00088031,\n",
       "        -0.08060438, -0.05515014],\n",
       "       [-0.02004499, -0.0234305 , -0.06891655,  0.03435662, -0.04713523,\n",
       "         0.1287213 , -0.02922139, -0.05122594, -0.01849775,  0.01359283,\n",
       "         0.0389331 ,  0.10808773, -0.04169225,  0.00024107, -0.03613696,\n",
       "         0.04782311,  0.01351454, -0.03063445, -0.10211923,  0.06917837,\n",
       "        -0.01689867, -0.04370299,  0.04687902,  0.10799699, -0.00135268,\n",
       "         0.08562245, -0.04749312, -0.05368543,  0.05826339,  0.00088031,\n",
       "        -0.08060438, -0.05515014]], dtype=float32)>"
      ]
     },
     "execution_count": 8,
     "metadata": {},
     "output_type": "execute_result"
    }
   ],
   "source": [
    "linear_layer = Linear(32)\n",
    "\n",
    "y = linear_layer(x)\n",
    "y"
   ]
  },
  {
   "cell_type": "code",
   "execution_count": 9,
   "metadata": {
    "vscode": {
     "languageId": "python"
    }
   },
   "outputs": [
    {
     "data": {
      "text/plain": [
       "<tf.Tensor: shape=(2, 32), dtype=float32, numpy=\n",
       "array([[0.        , 0.00386941, 0.        , 0.        , 0.        ,\n",
       "        0.        , 0.        , 0.01453568, 0.01917745, 0.        ,\n",
       "        0.08600904, 0.07803933, 0.        , 0.        , 0.        ,\n",
       "        0.        , 0.        , 0.        , 0.        , 0.        ,\n",
       "        0.        , 0.        , 0.08099713, 0.        , 0.02032595,\n",
       "        0.        , 0.11093108, 0.        , 0.05489663, 0.        ,\n",
       "        0.03640718, 0.        ],\n",
       "       [0.        , 0.00386941, 0.        , 0.        , 0.        ,\n",
       "        0.        , 0.        , 0.01453568, 0.01917745, 0.        ,\n",
       "        0.08600904, 0.07803933, 0.        , 0.        , 0.        ,\n",
       "        0.        , 0.        , 0.        , 0.        , 0.        ,\n",
       "        0.        , 0.        , 0.08099713, 0.        , 0.02032595,\n",
       "        0.        , 0.11093108, 0.        , 0.05489663, 0.        ,\n",
       "        0.03640718, 0.        ]], dtype=float32)>"
      ]
     },
     "execution_count": 9,
     "metadata": {},
     "output_type": "execute_result"
    }
   ],
   "source": [
    "class MLPlayer(keras.layers.Layer):\n",
    " def __init__(self):\n",
    "  super(MLPlayer, self).__init__()\n",
    "  self.linear_1 = Linear(32)\n",
    "  self.linear_2 = Linear(32)\n",
    "  self.linear_3 = Linear(100)\n",
    " \n",
    " def call(self, inputs):\n",
    "  x = self.linear_1(inputs)\n",
    "  x = tf.nn.relu(x)\n",
    "  x = self.linear_2(inputs)\n",
    "  x = tf.nn.relu(x)\n",
    "  \n",
    "  return x\n",
    "\n",
    "mlp = MLPlayer()\n",
    "y = mlp(x)\n",
    "y"
   ]
  },
  {
   "cell_type": "code",
   "execution_count": 12,
   "metadata": {
    "vscode": {
     "languageId": "python"
    }
   },
   "outputs": [],
   "source": [
    "# Suclassing Model\n",
    "#custom Models\n",
    "def normalize_grayscale(image_data):\n",
    " a = 0.1\n",
    " b = 0.9\n",
    " image_data_min = image_data.min()\n",
    " image_data_max = image_data.max()\n",
    " return a + (b-a)/(image_data_max-image_data_min)*(image_data-image_data_min)\n",
    "\n",
    "class MinisModel(keras.Model):\n",
    " def __init__(self,number_class= 10):\n",
    "  super(MinisModel,self).__init__()\n",
    "  self.number_class = number_class\n",
    "  \n",
    "  self.flatten_1 = keras.layers.Flatten()\n",
    "  self.dropout = keras.layers.Dropout(0.1)\n",
    "  self.dense_1 = keras.layers.Dense(50,activation='relu')\n",
    "  self.dense_2 = keras.layers.Dense(number_class,activation='softmax')\n",
    "  \n",
    " def call(self,inputs,training=False):\n",
    "  x = self.flatten_1(inputs)\n",
    "  x = self.dense_1(x)\n",
    "  if training:\n",
    "   x = self.dropout(x,training=training)\n",
    "  x = self.dense_2(x)\n",
    "  return x\n",
    " \n",
    " \n",
    "mnist = tf.keras.datasets.mnist\n",
    "(x_train,y_train),(x_test,y_test) = mnist.load_data()\n",
    "train_feature = normalize_grayscale(x_train)\n",
    "test_feature = normalize_grayscale(x_test)\n",
    "\n",
    "mymnismodel = MinisModel(1)\n",
    "mymnismodel.compile(optimizer='sgd',loss='categorical_crossentropy',metrics=['accuracy'])\n",
    "mymnismodel.fit(train_feature,y_train,validation_data=(test_feature,y_test),epochs=10)\n",
    " "
   ]
  },
  {
   "cell_type": "code",
   "execution_count": null,
   "metadata": {
    "vscode": {
     "languageId": "python"
    }
   },
   "outputs": [],
   "source": []
  }
 ],
 "metadata": {
  "kernelspec": {
   "display_name": "Python 3 (ipykernel)",
   "language": "python",
   "name": "python3"
  },
  "orig_nbformat": 4
 },
 "nbformat": 4,
 "nbformat_minor": 2
}
