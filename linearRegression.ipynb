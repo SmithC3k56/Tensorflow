{
 "cells": [
  {
   "cell_type": "code",
   "execution_count": 23,
   "metadata": {},
   "outputs": [],
   "source": [
    "import tensorflow as tf\n",
    "\n",
    "import numpy as np\n",
    "\n",
    "# parameter\n",
    "\n",
    "learning_rate = 0.01\n",
    "training_step = 100\n",
    "display_step = 20\n",
    "\n",
    "# training data\n",
    "x = np.array([3, 0, 5.0, 6.0, 10.2, 14.5])\n",
    "y = np.array([6.0, 10.0, 13.0, 98.2, 114.5,6])\n",
    "\n",
    "# Lineear resgression y = w*x +b\n",
    "\n",
    "# initialize weight and bias\n",
    "w = tf.Variable(np.random.randn(), name='weight')\n",
    "b = tf.Variable(np.random.randn(), name='bias')\n"
   ]
  },
  {
   "cell_type": "code",
   "execution_count": 15,
   "metadata": {},
   "outputs": [
    {
     "data": {
      "text/plain": [
       "<function tensorflow.python.ops.gen_math_ops.square(x, name=None)>"
      ]
     },
     "execution_count": 15,
     "metadata": {},
     "output_type": "execute_result"
    }
   ],
   "source": [
    "tf.square\n"
   ]
  },
  {
   "cell_type": "code",
   "execution_count": 14,
   "metadata": {},
   "outputs": [
    {
     "data": {
      "text/plain": [
       "<function tensorflow.python.ops.math_ops.reduce_mean(input_tensor, axis=None, keepdims=False, name=None)>"
      ]
     },
     "execution_count": 14,
     "metadata": {},
     "output_type": "execute_result"
    }
   ],
   "source": [
    "tf.reduce_mean\n"
   ]
  },
  {
   "cell_type": "code",
   "execution_count": 25,
   "metadata": {},
   "outputs": [],
   "source": [
    "def linear_regression(x):\n",
    "    return w * x + b\n",
    "\n",
    "# MSE\n",
    "\n",
    "\n",
    "def mean_square(y_pred, y_true):\n",
    "    return tf.reduce_mean(tf.square(y_pred - y_true))\n",
    "\n",
    "\n",
    "# stochastic gradient descent\n",
    "optimizer = tf.optimizers.SGD(learning_rate)\n"
   ]
  },
  {
   "cell_type": "code",
   "execution_count": 26,
   "metadata": {},
   "outputs": [
    {
     "name": "stdout",
     "output_type": "stream",
     "text": [
      "step:20,loss:2181.313232421875,w:4.681757926940918,b:3.4263758659362793\n",
      "step:40,loss:2139.7822265625,w:4.391153335571289,b:6.296437740325928\n",
      "step:60,loss:2108.346435546875,w:4.13832426071167,b:8.793424606323242\n",
      "step:80,loss:2084.55224609375,w:3.918360471725464,b:10.96583080291748\n",
      "step:100,loss:2066.5419921875,w:3.72698974609375,b:12.85584831237793\n"
     ]
    }
   ],
   "source": [
    "def run_optimization():\n",
    "    with tf.GradientTape() as g:\n",
    "        pred = linear_regression(x)\n",
    "        loss = mean_square(pred, y)\n",
    "\n",
    "        # tinh gradient\n",
    "        gradients = g.gradient(loss, [w, b])\n",
    "\n",
    "        optimizer.apply_gradients(zip(gradients, [w, b]))\n",
    "\n",
    "\n",
    "for step in range(1, training_step + 1):\n",
    "    run_optimization()\n",
    "    if step % display_step == 0:\n",
    "        pred = linear_regression(x)\n",
    "        loss = mean_square(pred, y)\n",
    "        print(f\"step:{step},loss:{loss},w:{w.numpy()},b:{b.numpy()}\")\n"
   ]
  },
  {
   "cell_type": "code",
   "execution_count": 27,
   "metadata": {},
   "outputs": [
    {
     "data": {
      "image/png": "[encoded data removed]",
      "text/plain": [
       "<Figure size 640x480 with 1 Axes>"
      ]
     },
     "metadata": {},
     "output_type": "display_data"
    },
    {
     "ename": "",
     "evalue": "",
     "output_type": "error",
     "traceback": [
      "\u001b[1;31mThe Kernel crashed while executing code in the the current cell or a previous cell. Please review the code in the cell(s) to identify a possible cause of the failure. Click <a href='https://aka.ms/vscodeJupyterKernelCrash'>here</a> for more info. View Jupyter <a href='command:jupyter.viewOutput'>log</a> for further details."
     ]
    }
   ],
   "source": [
    "import matplotlib.pyplot as plt\n",
    "\n",
    "plt.plot(x,y,'ro',label=\"data\")\n",
    "\n",
    "plt.plot(x,np.array(w*x+b),label=\"Linear Regression\")\n",
    "plt.legend()\n",
    "plt.show()\n"
   ]
  },
  {
   "cell_type": "code",
   "execution_count": 10,
   "metadata": {},
   "outputs": [
    {
     "data": {
      "text/plain": [
       "array([ 3. ,  0. ,  5. ,  6. , 10.2, 14.5,  6. ])"
      ]
     },
     "execution_count": 10,
     "metadata": {},
     "output_type": "execute_result"
    }
   ],
   "source": [
    "x"
   ]
  },
  {
   "cell_type": "code",
   "execution_count": 11,
   "metadata": {},
   "outputs": [
    {
     "data": {
      "text/plain": [
       "array([  6. ,  10. ,  13. ,  98.2, 114.5])"
      ]
     },
     "execution_count": 11,
     "metadata": {},
     "output_type": "execute_result"
    }
   ],
   "source": [
    "y"
   ]
  },
  {
   "cell_type": "code",
   "execution_count": null,
   "metadata": {},
   "outputs": [],
   "source": []
  }
 ],
 "metadata": {
  "kernelspec": {
   "display_name": "Python 3 (ipykernel)",
   "language": "python",
   "name": "python3"
  },
  "language_info": {
   "codemirror_mode": {
    "name": "ipython",
    "version": 3
   },
   "file_extension": ".py",
   "mimetype": "text/x-python",
   "name": "python",
   "nbconvert_exporter": "python",
   "pygments_lexer": "ipython3",
   "version": "3.10.10"
  },
  "orig_nbformat": 4
 },
 "nbformat": 4,
 "nbformat_minor": 2
}
