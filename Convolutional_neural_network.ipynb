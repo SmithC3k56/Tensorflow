{
 "cells": [
  {
   "cell_type": "code",
   "execution_count": 61,
   "metadata": {},
   "outputs": [
    {
     "name": "stdout",
     "output_type": "stream",
     "text": [
      "(60000, 28, 28)\n",
      "(10000, 28, 28)\n"
     ]
    }
   ],
   "source": [
    "import tensorflow as tf\n",
    "import numpy as np\n",
    "import tensorflow\n",
    "from tensorflow.python.ops.variables import trainable_variables\n",
    "from tensorflow.keras.layers import MaxPooling2D\n",
    "\n",
    "#import data\n",
    "(x_train, y_train), (x_test, y_test) = tensorflow.keras.datasets.mnist.load_data()\n",
    "\n",
    "x_train = np.array(x_train,np.float32)\n",
    "x_test = np.array(x_test,np.float32)\n",
    "\n",
    "print(x_train.shape)\n",
    "print(x_test.shape)"
   ]
  },
  {
   "cell_type": "code",
   "execution_count": 62,
   "metadata": {},
   "outputs": [],
   "source": [
    "#dataset param\n",
    "num_classes = 10\n",
    "num_features = 784\n",
    "\n",
    "#training param\n",
    "learning_rate = 0.001 \n",
    "training_step  =200\n",
    "batch_size = 128\n",
    "display_size = 100\n",
    "display_step = 10\n",
    "\n",
    "conv1_filter = 32\n",
    "conv2_filter = 64\n",
    "\n",
    "fc1_units = 1024"
   ]
  },
  {
   "cell_type": "code",
   "execution_count": 63,
   "metadata": {},
   "outputs": [
    {
     "name": "stdout",
     "output_type": "stream",
     "text": [
      "(60000, 784)\n",
      "(10000, 784)\n"
     ]
    }
   ],
   "source": [
    "#normalize data\n",
    "x_train = x_train.reshape([-1,num_features])\n",
    "x_test = x_test.reshape([-1,num_features])\n",
    "x_train = x_train/255.0\n",
    "x_test = x_test/255.0\n",
    "print(x_train.shape)\n",
    "print(x_test.shape)"
   ]
  },
  {
   "cell_type": "code",
   "execution_count": 64,
   "metadata": {},
   "outputs": [],
   "source": [
    "#tf.data\n",
    "data_train = tensorflow.data.Dataset.from_tensor_slices(\n",
    " (x_train, y_train)\n",
    ")\n",
    "data_train=  data_train.repeat().shuffle(5000).batch(batch_size).prefetch(1)"
   ]
  },
  {
   "cell_type": "code",
   "execution_count": 65,
   "metadata": {},
   "outputs": [],
   "source": [
    "def conv2d(x, w,b,strides =1):\n",
    " x = tf.nn.conv2d(x,w,strides=[1,strides,strides,1],padding='SAME')\n",
    " x = tf.nn.bias_add(x,b)\n",
    " return tf.nn.relu(x)\n",
    "\n",
    "def maxpool2d(x, k  =2):\n",
    " return MaxPooling2D(pool_size=(k,k), strides=(k,k), padding='SAME')(x)\n",
    "\n",
    "\n",
    "\n",
    "random_normal = tf.initializers.RandomNormal()\n",
    "weights = {'wc1':tf.Variable(random_normal([5,5,1,conv1_filter])),\n",
    "          'wc2': tf.Variable(random_normal([5,5,conv1_filter,conv2_filter])),\n",
    "          'wd1': tf.Variable(random_normal([7 * 7 * 64,fc1_units])),\n",
    "          'out': tf.Variable(random_normal([fc1_units,num_classes]))}\n",
    "\n",
    "biases ={'bc1':tf.Variable(tf.zeros([conv1_filter])),\n",
    "         'bc2':tf.Variable(tf.zeros([conv2_filter])),\n",
    "         'bd1':tf.Variable(tf.zeros([fc1_units])),\n",
    "         'out':tf.Variable(tf.zeros([num_classes]))}\n",
    "\n",
    "def conv_net(x):\n",
    " x = tf.reshape(x, [-1,28,28,1])\n",
    " conv1 = conv2d(x,weights['wc1'],biases['bc1'])# 28*28*32\n",
    " conv1 = maxpool2d(conv1) #14*14*32\n",
    " \n",
    " conv2 = conv2d(conv1,weights['wc2'],biases['bc2'])# 28*28*64\n",
    " conv2 = maxpool2d(conv2) # 7*7*64\n",
    " \n",
    " fc1 = tf.reshape(conv2,[-1,7*7*64])\n",
    " fc1 = tf.add(tf.matmul(fc1,weights['wd1']),biases['bd1'])\n",
    " fc1 = tf.nn.relu(fc1)\n",
    " \n",
    " out = tf.add(tf.matmul(fc1,weights['out']),biases['out'])\n",
    " return tf.nn.softmax(out)\n",
    "\n"
   ]
  },
  {
   "cell_type": "code",
   "execution_count": 66,
   "metadata": {},
   "outputs": [
    {
     "name": "stderr",
     "output_type": "stream",
     "text": [
      "2023-05-11 15:00:31.643778: I tensorflow/core/common_runtime/executor.cc:1197] [/device:CPU:0] (DEBUG INFO) Executor start aborting (this does not indicate an error and you can ignore this message): INVALID_ARGUMENT: You must feed a value for placeholder tensor 'Placeholder/_1' with dtype uint8 and shape [60000]\n",
      "\t [[{{node Placeholder/_1}}]]\n",
      "2023-05-11 15:00:31.644119: I tensorflow/core/common_runtime/executor.cc:1197] [/device:CPU:0] (DEBUG INFO) Executor start aborting (this does not indicate an error and you can ignore this message): INVALID_ARGUMENT: You must feed a value for placeholder tensor 'Placeholder/_0' with dtype float and shape [60000,784]\n",
      "\t [[{{node Placeholder/_0}}]]\n"
     ]
    },
    {
     "name": "stdout",
     "output_type": "stream",
     "text": [
      "step10 loss:2.314126491546631 acc:0.140625\n",
      "step20 loss:2.343596935272217 acc:0.1015625\n",
      "step30 loss:2.27994966506958 acc:0.1875\n",
      "step40 loss:2.322176933288574 acc:0.1171875\n",
      "step50 loss:2.298757314682007 acc:0.1328125\n",
      "step60 loss:2.266681432723999 acc:0.1875\n",
      "step70 loss:2.2876052856445312 acc:0.171875\n",
      "step80 loss:2.2990522384643555 acc:0.109375\n",
      "step90 loss:2.2431249618530273 acc:0.2265625\n",
      "step100 loss:2.229907512664795 acc:0.2421875\n",
      "step110 loss:2.231919288635254 acc:0.25\n",
      "step120 loss:2.2326316833496094 acc:0.28125\n",
      "step130 loss:2.2245705127716064 acc:0.28125\n",
      "step140 loss:2.2061283588409424 acc:0.3125\n",
      "step150 loss:2.1931910514831543 acc:0.359375\n",
      "step160 loss:2.172940969467163 acc:0.3671875\n",
      "step170 loss:2.1749215126037598 acc:0.3828125\n",
      "step180 loss:2.183204174041748 acc:0.3671875\n",
      "step190 loss:2.1648099422454834 acc:0.359375\n",
      "step200 loss:2.168658971786499 acc:0.3515625\n"
     ]
    }
   ],
   "source": [
    "#compute loss\n",
    "def cross_entropy(y_pred,y_true):\n",
    " y_true = tf.one_hot(y_true,depth=num_classes)\n",
    " y_gred = tf.clip_by_value(y_pred,1e-9,1.0)\n",
    " return tf.reduce_mean(-tf.reduce_sum(y_true* tf.math.log(y_pred),1))\n",
    "\n",
    "\n",
    "#accuracy function\n",
    "def accuracy(y_pred,y_true):\n",
    " correct_prediction = tf.equal(tf.argmax(y_pred,1),tf.cast(y_true,tf.int64))\n",
    " return tf.reduce_mean(tf.cast(correct_prediction,tf.float32))\n",
    "\n",
    "\n",
    "optimizer = tf.optimizers.SGD(learning_rate)\n",
    "\n",
    "\n",
    "def run_optimization(x,y):\n",
    " with tf.GradientTape() as g:\n",
    "  pred =conv_net(x)\n",
    "  loss = cross_entropy(pred,y)\n",
    "  trainable_variables = list(weights.values()) + list(biases.values())\n",
    " gradients = g.gradient(loss,trainable_variables)\n",
    " optimizer.apply_gradients(zip(gradients,trainable_variables))\n",
    "\n",
    "\n",
    " #run training\n",
    " \n",
    "for step, (batch_x,batch_y) in enumerate(data_train.take(training_step),1):\n",
    "  run_optimization(batch_x,batch_y)\n",
    "  if step % display_step ==0:\n",
    "   pred = conv_net(batch_x)\n",
    "   loss = cross_entropy(pred,batch_y)\n",
    "   acc = accuracy(pred,batch_y)\n",
    "   print(f\"step{step} loss:{loss} acc:{acc}\")"
   ]
  },
  {
   "cell_type": "code",
   "execution_count": 67,
   "metadata": {},
   "outputs": [
    {
     "name": "stderr",
     "output_type": "stream",
     "text": [
      "2023-05-11 15:00:45.178148: W tensorflow/tsl/framework/bfc_allocator.cc:485] Allocator (GPU_0_bfc) ran out of memory trying to allocate 957.03MiB (rounded to 1003520000)requested by op Conv2D\n",
      "If the cause is memory fragmentation maybe the environment variable 'TF_GPU_ALLOCATOR=cuda_malloc_async' will improve the situation. \n",
      "Current allocation summary follows.\n",
      "Current allocation summary follows.\n",
      "2023-05-11 15:00:45.178217: I tensorflow/tsl/framework/bfc_allocator.cc:1039] BFCAllocator dump for GPU_0_bfc\n",
      "2023-05-11 15:00:45.178229: I tensorflow/tsl/framework/bfc_allocator.cc:1046] Bin (256): \tTotal Chunks: 34, Chunks in use: 32. 8.5KiB allocated for chunks. 8.0KiB in use in bin. 1.6KiB client-requested in use in bin.\n",
      "2023-05-11 15:00:45.178235: I tensorflow/tsl/framework/bfc_allocator.cc:1046] Bin (512): \tTotal Chunks: 1, Chunks in use: 0. 512B allocated for chunks. 0B in use in bin. 0B client-requested in use in bin.\n",
      "2023-05-11 15:00:45.178240: I tensorflow/tsl/framework/bfc_allocator.cc:1046] Bin (1024): \tTotal Chunks: 1, Chunks in use: 1. 1.2KiB allocated for chunks. 1.2KiB in use in bin. 1.0KiB client-requested in use in bin.\n",
      "2023-05-11 15:00:45.178245: I tensorflow/tsl/framework/bfc_allocator.cc:1046] Bin (2048): \tTotal Chunks: 5, Chunks in use: 4. 16.2KiB allocated for chunks. 13.0KiB in use in bin. 12.5KiB client-requested in use in bin.\n",
      "2023-05-11 15:00:45.178249: I tensorflow/tsl/framework/bfc_allocator.cc:1046] Bin (4096): \tTotal Chunks: 7, Chunks in use: 5. 33.5KiB allocated for chunks. 22.5KiB in use in bin. 19.2KiB client-requested in use in bin.\n",
      "2023-05-11 15:00:45.178252: I tensorflow/tsl/framework/bfc_allocator.cc:1046] Bin (8192): \tTotal Chunks: 0, Chunks in use: 0. 0B allocated for chunks. 0B in use in bin. 0B client-requested in use in bin.\n",
      "2023-05-11 15:00:45.178256: I tensorflow/tsl/framework/bfc_allocator.cc:1046] Bin (16384): \tTotal Chunks: 1, Chunks in use: 0. 16.5KiB allocated for chunks. 0B in use in bin. 0B client-requested in use in bin.\n",
      "2023-05-11 15:00:45.178261: I tensorflow/tsl/framework/bfc_allocator.cc:1046] Bin (32768): \tTotal Chunks: 3, Chunks in use: 2. 120.0KiB allocated for chunks. 80.0KiB in use in bin. 80.0KiB client-requested in use in bin.\n",
      "2023-05-11 15:00:45.178265: I tensorflow/tsl/framework/bfc_allocator.cc:1046] Bin (65536): \tTotal Chunks: 2, Chunks in use: 1. 192.0KiB allocated for chunks. 93.2KiB in use in bin. 58.6KiB client-requested in use in bin.\n",
      "2023-05-11 15:00:45.178269: I tensorflow/tsl/framework/bfc_allocator.cc:1046] Bin (131072): \tTotal Chunks: 4, Chunks in use: 2. 853.2KiB allocated for chunks. 400.0KiB in use in bin. 400.0KiB client-requested in use in bin.\n",
      "2023-05-11 15:00:45.178273: I tensorflow/tsl/framework/bfc_allocator.cc:1046] Bin (262144): \tTotal Chunks: 2, Chunks in use: 2. 792.0KiB allocated for chunks. 792.0KiB in use in bin. 784.0KiB client-requested in use in bin.\n",
      "2023-05-11 15:00:45.178277: I tensorflow/tsl/framework/bfc_allocator.cc:1046] Bin (524288): \tTotal Chunks: 2, Chunks in use: 2. 1.22MiB allocated for chunks. 1.22MiB in use in bin. 784.0KiB client-requested in use in bin.\n",
      "2023-05-11 15:00:45.178281: I tensorflow/tsl/framework/bfc_allocator.cc:1046] Bin (1048576): \tTotal Chunks: 0, Chunks in use: 0. 0B allocated for chunks. 0B in use in bin. 0B client-requested in use in bin.\n",
      "2023-05-11 15:00:45.178284: I tensorflow/tsl/framework/bfc_allocator.cc:1046] Bin (2097152): \tTotal Chunks: 0, Chunks in use: 0. 0B allocated for chunks. 0B in use in bin. 0B client-requested in use in bin.\n",
      "2023-05-11 15:00:45.178288: I tensorflow/tsl/framework/bfc_allocator.cc:1046] Bin (4194304): \tTotal Chunks: 0, Chunks in use: 0. 0B allocated for chunks. 0B in use in bin. 0B client-requested in use in bin.\n",
      "2023-05-11 15:00:45.178292: I tensorflow/tsl/framework/bfc_allocator.cc:1046] Bin (8388608): \tTotal Chunks: 4, Chunks in use: 3. 50.70MiB allocated for chunks. 36.95MiB in use in bin. 36.75MiB client-requested in use in bin.\n",
      "2023-05-11 15:00:45.178297: I tensorflow/tsl/framework/bfc_allocator.cc:1046] Bin (16777216): \tTotal Chunks: 4, Chunks in use: 4. 100.99MiB allocated for chunks. 100.99MiB in use in bin. 84.31MiB client-requested in use in bin.\n",
      "2023-05-11 15:00:45.178301: I tensorflow/tsl/framework/bfc_allocator.cc:1046] Bin (33554432): \tTotal Chunks: 2, Chunks in use: 2. 84.43MiB allocated for chunks. 84.43MiB in use in bin. 59.81MiB client-requested in use in bin.\n",
      "2023-05-11 15:00:45.178304: I tensorflow/tsl/framework/bfc_allocator.cc:1046] Bin (67108864): \tTotal Chunks: 0, Chunks in use: 0. 0B allocated for chunks. 0B in use in bin. 0B client-requested in use in bin.\n",
      "2023-05-11 15:00:45.178309: I tensorflow/tsl/framework/bfc_allocator.cc:1046] Bin (134217728): \tTotal Chunks: 2, Chunks in use: 1. 353.54MiB allocated for chunks. 179.44MiB in use in bin. 179.44MiB client-requested in use in bin.\n",
      "2023-05-11 15:00:45.178312: I tensorflow/tsl/framework/bfc_allocator.cc:1046] Bin (268435456): \tTotal Chunks: 1, Chunks in use: 0. 355.62MiB allocated for chunks. 0B in use in bin. 0B client-requested in use in bin.\n",
      "2023-05-11 15:00:45.178319: I tensorflow/tsl/framework/bfc_allocator.cc:1062] Bin for 957.03MiB was 256.00MiB, Chunk State: \n",
      "2023-05-11 15:00:45.178329: I tensorflow/tsl/framework/bfc_allocator.cc:1068]   Size: 355.62MiB | Requested Size: 512.0KiB | in_use: 0 | bin_num: 20, prev:   Size: 179.44MiB | Requested Size: 179.44MiB | in_use: 1 | bin_num: -1\n",
      "2023-05-11 15:00:45.178332: I tensorflow/tsl/framework/bfc_allocator.cc:1075] Next region of size 994544640\n",
      "2023-05-11 15:00:45.178338: I tensorflow/tsl/framework/bfc_allocator.cc:1095] InUse at 511600000 of size 256 next 25\n",
      "2023-05-11 15:00:45.178341: I tensorflow/tsl/framework/bfc_allocator.cc:1095] InUse at 511600100 of size 256 next 46\n",
      "2023-05-11 15:00:45.178344: I tensorflow/tsl/framework/bfc_allocator.cc:1095] InUse at 511600200 of size 256 next 30\n",
      "2023-05-11 15:00:45.178347: I tensorflow/tsl/framework/bfc_allocator.cc:1095] InUse at 511600300 of size 256 next 60\n",
      "2023-05-11 15:00:45.178350: I tensorflow/tsl/framework/bfc_allocator.cc:1095] InUse at 511600400 of size 256 next 14\n",
      "2023-05-11 15:00:45.178352: I tensorflow/tsl/framework/bfc_allocator.cc:1095] Free  at 511600500 of size 256 next 31\n",
      "2023-05-11 15:00:45.178355: I tensorflow/tsl/framework/bfc_allocator.cc:1095] InUse at 511600600 of size 256 next 67\n",
      "2023-05-11 15:00:45.178358: I tensorflow/tsl/framework/bfc_allocator.cc:1095] InUse at 511600700 of size 256 next 38\n",
      "2023-05-11 15:00:45.178361: I tensorflow/tsl/framework/bfc_allocator.cc:1095] InUse at 511600800 of size 256 next 26\n",
      "2023-05-11 15:00:45.178363: I tensorflow/tsl/framework/bfc_allocator.cc:1095] InUse at 511600900 of size 256 next 43\n",
      "2023-05-11 15:00:45.178366: I tensorflow/tsl/framework/bfc_allocator.cc:1095] InUse at 511600a00 of size 256 next 32\n",
      "2023-05-11 15:00:45.178369: I tensorflow/tsl/framework/bfc_allocator.cc:1095] InUse at 511600b00 of size 256 next 62\n",
      "2023-05-11 15:00:45.178372: I tensorflow/tsl/framework/bfc_allocator.cc:1095] InUse at 511600c00 of size 256 next 68\n",
      "2023-05-11 15:00:45.178374: I tensorflow/tsl/framework/bfc_allocator.cc:1095] InUse at 511600d00 of size 256 next 45\n",
      "2023-05-11 15:00:45.178377: I tensorflow/tsl/framework/bfc_allocator.cc:1095] InUse at 511600e00 of size 3328 next 23\n",
      "2023-05-11 15:00:45.178380: I tensorflow/tsl/framework/bfc_allocator.cc:1095] InUse at 511601b00 of size 652288 next 55\n",
      "2023-05-11 15:00:45.178386: I tensorflow/tsl/framework/bfc_allocator.cc:1095] InUse at 5116a0f00 of size 256 next 40\n",
      "2023-05-11 15:00:45.178389: I tensorflow/tsl/framework/bfc_allocator.cc:1095] InUse at 5116a1000 of size 256 next 49\n",
      "2023-05-11 15:00:45.178392: I tensorflow/tsl/framework/bfc_allocator.cc:1095] InUse at 5116a1100 of size 256 next 33\n",
      "2023-05-11 15:00:45.178394: I tensorflow/tsl/framework/bfc_allocator.cc:1095] InUse at 5116a1200 of size 256 next 61\n",
      "2023-05-11 15:00:45.178397: I tensorflow/tsl/framework/bfc_allocator.cc:1095] InUse at 5116a1300 of size 256 next 74\n",
      "2023-05-11 15:00:45.178400: I tensorflow/tsl/framework/bfc_allocator.cc:1095] Free  at 5116a1400 of size 512 next 37\n",
      "2023-05-11 15:00:45.178403: I tensorflow/tsl/framework/bfc_allocator.cc:1095] InUse at 5116a1600 of size 3328 next 57\n",
      "2023-05-11 15:00:45.178405: I tensorflow/tsl/framework/bfc_allocator.cc:1095] Free  at 5116a2300 of size 40960 next 71\n",
      "2023-05-11 15:00:45.178409: I tensorflow/tsl/framework/bfc_allocator.cc:1095] InUse at 5116ac300 of size 40960 next 34\n",
      "2023-05-11 15:00:45.178412: I tensorflow/tsl/framework/bfc_allocator.cc:1095] InUse at 5116b6300 of size 95488 next 56\n",
      "2023-05-11 15:00:45.178414: I tensorflow/tsl/framework/bfc_allocator.cc:1095] InUse at 5116cd800 of size 3328 next 22\n",
      "2023-05-11 15:00:45.178417: I tensorflow/tsl/framework/bfc_allocator.cc:1095] InUse at 5116ce500 of size 52173568 next 27\n",
      "2023-05-11 15:00:45.178420: I tensorflow/tsl/framework/bfc_allocator.cc:1095] InUse at 514890000 of size 409600 next 35\n",
      "2023-05-11 15:00:45.178423: I tensorflow/tsl/framework/bfc_allocator.cc:1095] Free  at 5148f4000 of size 101120 next 75\n",
      "2023-05-11 15:00:45.178427: I tensorflow/tsl/framework/bfc_allocator.cc:1095] InUse at 51490cb00 of size 40960 next 20\n",
      "2023-05-11 15:00:45.178429: I tensorflow/tsl/framework/bfc_allocator.cc:1095] Free  at 514916b00 of size 204800 next 52\n",
      "2023-05-11 15:00:45.178432: I tensorflow/tsl/framework/bfc_allocator.cc:1095] InUse at 514948b00 of size 204800 next 64\n",
      "2023-05-11 15:00:45.178435: I tensorflow/tsl/framework/bfc_allocator.cc:1095] Free  at 51497ab00 of size 259328 next 42\n",
      "2023-05-11 15:00:45.178438: I tensorflow/tsl/framework/bfc_allocator.cc:1095] InUse at 5149ba000 of size 622592 next 51\n",
      "2023-05-11 15:00:45.178441: I tensorflow/tsl/framework/bfc_allocator.cc:1095] InUse at 514a52000 of size 401408 next 50\n",
      "2023-05-11 15:00:45.178445: I tensorflow/tsl/framework/bfc_allocator.cc:1095] InUse at 514ab4000 of size 12845056 next 29\n",
      "2023-05-11 15:00:45.178448: I tensorflow/tsl/framework/bfc_allocator.cc:1095] InUse at 5156f4000 of size 204800 next 77\n",
      "2023-05-11 15:00:45.178451: I tensorflow/tsl/framework/bfc_allocator.cc:1095] InUse at 515726000 of size 13049856 next 76\n",
      "2023-05-11 15:00:45.178454: I tensorflow/tsl/framework/bfc_allocator.cc:1095] InUse at 516398000 of size 22618112 next 54\n",
      "2023-05-11 15:00:45.178457: I tensorflow/tsl/framework/bfc_allocator.cc:1095] InUse at 51792a000 of size 12845056 next 59\n",
      "2023-05-11 15:00:45.178460: I tensorflow/tsl/framework/bfc_allocator.cc:1095] Free  at 51856a000 of size 14417920 next 36\n",
      "2023-05-11 15:00:45.178463: I tensorflow/tsl/framework/bfc_allocator.cc:1095] InUse at 51932a000 of size 36356096 next 44\n",
      "2023-05-11 15:00:45.178466: I tensorflow/tsl/framework/bfc_allocator.cc:1095] InUse at 51b5d6000 of size 20559872 next 1\n",
      "2023-05-11 15:00:45.178468: I tensorflow/tsl/framework/bfc_allocator.cc:1095] InUse at 51c971800 of size 1280 next 2\n",
      "2023-05-11 15:00:45.178471: I tensorflow/tsl/framework/bfc_allocator.cc:1095] InUse at 51c971d00 of size 256 next 12\n",
      "2023-05-11 15:00:45.178474: I tensorflow/tsl/framework/bfc_allocator.cc:1095] InUse at 51c971e00 of size 256 next 13\n",
      "2023-05-11 15:00:45.178477: I tensorflow/tsl/framework/bfc_allocator.cc:1095] InUse at 51c971f00 of size 256 next 16\n",
      "2023-05-11 15:00:45.178480: I tensorflow/tsl/framework/bfc_allocator.cc:1095] InUse at 51c972000 of size 256 next 24\n",
      "2023-05-11 15:00:45.178482: I tensorflow/tsl/framework/bfc_allocator.cc:1095] InUse at 51c972100 of size 256 next 10\n",
      "2023-05-11 15:00:45.178485: I tensorflow/tsl/framework/bfc_allocator.cc:1095] InUse at 51c972200 of size 256 next 48\n",
      "2023-05-11 15:00:45.178488: I tensorflow/tsl/framework/bfc_allocator.cc:1095] Free  at 51c972300 of size 6144 next 17\n",
      "2023-05-11 15:00:45.178491: I tensorflow/tsl/framework/bfc_allocator.cc:1095] InUse at 51c973b00 of size 256 next 21\n",
      "2023-05-11 15:00:45.178493: I tensorflow/tsl/framework/bfc_allocator.cc:1095] Free  at 51c973c00 of size 256 next 72\n",
      "2023-05-11 15:00:45.178496: I tensorflow/tsl/framework/bfc_allocator.cc:1095] InUse at 51c973d00 of size 256 next 78\n",
      "2023-05-11 15:00:45.178499: I tensorflow/tsl/framework/bfc_allocator.cc:1095] Free  at 51c973e00 of size 3328 next 63\n",
      "2023-05-11 15:00:45.178502: I tensorflow/tsl/framework/bfc_allocator.cc:1095] InUse at 51c974b00 of size 4096 next 73\n",
      "2023-05-11 15:00:45.178504: I tensorflow/tsl/framework/bfc_allocator.cc:1095] InUse at 51c975b00 of size 4096 next 65\n",
      "2023-05-11 15:00:45.178507: I tensorflow/tsl/framework/bfc_allocator.cc:1095] InUse at 51c976b00 of size 5632 next 66\n",
      "2023-05-11 15:00:45.178510: I tensorflow/tsl/framework/bfc_allocator.cc:1095] InUse at 51c978100 of size 3328 next 69\n",
      "2023-05-11 15:00:45.178513: I tensorflow/tsl/framework/bfc_allocator.cc:1095] InUse at 51c978e00 of size 5120 next 15\n",
      "2023-05-11 15:00:45.178516: I tensorflow/tsl/framework/bfc_allocator.cc:1095] Free  at 51c97a200 of size 5120 next 58\n",
      "2023-05-11 15:00:45.178518: I tensorflow/tsl/framework/bfc_allocator.cc:1095] InUse at 51c97b600 of size 4096 next 53\n",
      "2023-05-11 15:00:45.178522: I tensorflow/tsl/framework/bfc_allocator.cc:1095] Free  at 51c97c600 of size 16896 next 3\n",
      "2023-05-11 15:00:45.178525: I tensorflow/tsl/framework/bfc_allocator.cc:1095] InUse at 51c980800 of size 256 next 4\n",
      "2023-05-11 15:00:45.178529: I tensorflow/tsl/framework/bfc_allocator.cc:1095] InUse at 51c980900 of size 256 next 5\n",
      "2023-05-11 15:00:45.178531: I tensorflow/tsl/framework/bfc_allocator.cc:1095] InUse at 51c980a00 of size 256 next 6\n",
      "2023-05-11 15:00:45.178534: I tensorflow/tsl/framework/bfc_allocator.cc:1095] InUse at 51c980b00 of size 256 next 7\n",
      "2023-05-11 15:00:45.178537: I tensorflow/tsl/framework/bfc_allocator.cc:1095] InUse at 51c980c00 of size 256 next 8\n",
      "2023-05-11 15:00:45.178540: I tensorflow/tsl/framework/bfc_allocator.cc:1095] InUse at 51c980d00 of size 256 next 9\n",
      "2023-05-11 15:00:45.178546: I tensorflow/tsl/framework/bfc_allocator.cc:1095] InUse at 51c980e00 of size 31360000 next 28\n",
      "2023-05-11 15:00:45.178549: I tensorflow/tsl/framework/bfc_allocator.cc:1095] Free  at 51e769200 of size 182550272 next 19\n",
      "2023-05-11 15:00:45.178552: I tensorflow/tsl/framework/bfc_allocator.cc:1095] InUse at 529581100 of size 31360000 next 41\n",
      "2023-05-11 15:00:45.178555: I tensorflow/tsl/framework/bfc_allocator.cc:1095] InUse at 52b369500 of size 188160000 next 47\n",
      "2023-05-11 15:00:45.178558: I tensorflow/tsl/framework/bfc_allocator.cc:1095] Free  at 5366dad00 of size 372891392 next 18446744073709551615\n",
      "2023-05-11 15:00:45.178561: I tensorflow/tsl/framework/bfc_allocator.cc:1100]      Summary of in-use Chunks by size: \n",
      "2023-05-11 15:00:45.178565: I tensorflow/tsl/framework/bfc_allocator.cc:1103] 32 Chunks of size 256 totalling 8.0KiB\n",
      "2023-05-11 15:00:45.178569: I tensorflow/tsl/framework/bfc_allocator.cc:1103] 1 Chunks of size 1280 totalling 1.2KiB\n",
      "2023-05-11 15:00:45.178573: I tensorflow/tsl/framework/bfc_allocator.cc:1103] 4 Chunks of size 3328 totalling 13.0KiB\n",
      "2023-05-11 15:00:45.178576: I tensorflow/tsl/framework/bfc_allocator.cc:1103] 3 Chunks of size 4096 totalling 12.0KiB\n",
      "2023-05-11 15:00:45.178579: I tensorflow/tsl/framework/bfc_allocator.cc:1103] 1 Chunks of size 5120 totalling 5.0KiB\n",
      "2023-05-11 15:00:45.178582: I tensorflow/tsl/framework/bfc_allocator.cc:1103] 1 Chunks of size 5632 totalling 5.5KiB\n",
      "2023-05-11 15:00:45.178585: I tensorflow/tsl/framework/bfc_allocator.cc:1103] 2 Chunks of size 40960 totalling 80.0KiB\n",
      "2023-05-11 15:00:45.178589: I tensorflow/tsl/framework/bfc_allocator.cc:1103] 1 Chunks of size 95488 totalling 93.2KiB\n",
      "2023-05-11 15:00:45.178592: I tensorflow/tsl/framework/bfc_allocator.cc:1103] 2 Chunks of size 204800 totalling 400.0KiB\n",
      "2023-05-11 15:00:45.178596: I tensorflow/tsl/framework/bfc_allocator.cc:1103] 1 Chunks of size 401408 totalling 392.0KiB\n",
      "2023-05-11 15:00:45.178599: I tensorflow/tsl/framework/bfc_allocator.cc:1103] 1 Chunks of size 409600 totalling 400.0KiB\n",
      "2023-05-11 15:00:45.178602: I tensorflow/tsl/framework/bfc_allocator.cc:1103] 1 Chunks of size 622592 totalling 608.0KiB\n",
      "2023-05-11 15:00:45.178605: I tensorflow/tsl/framework/bfc_allocator.cc:1103] 1 Chunks of size 652288 totalling 637.0KiB\n",
      "2023-05-11 15:00:45.178609: I tensorflow/tsl/framework/bfc_allocator.cc:1103] 2 Chunks of size 12845056 totalling 24.50MiB\n",
      "2023-05-11 15:00:45.178612: I tensorflow/tsl/framework/bfc_allocator.cc:1103] 1 Chunks of size 13049856 totalling 12.45MiB\n",
      "2023-05-11 15:00:45.178615: I tensorflow/tsl/framework/bfc_allocator.cc:1103] 1 Chunks of size 20559872 totalling 19.61MiB\n",
      "2023-05-11 15:00:45.178619: I tensorflow/tsl/framework/bfc_allocator.cc:1103] 1 Chunks of size 22618112 totalling 21.57MiB\n",
      "2023-05-11 15:00:45.178622: I tensorflow/tsl/framework/bfc_allocator.cc:1103] 2 Chunks of size 31360000 totalling 59.81MiB\n",
      "2023-05-11 15:00:45.178625: I tensorflow/tsl/framework/bfc_allocator.cc:1103] 1 Chunks of size 36356096 totalling 34.67MiB\n",
      "2023-05-11 15:00:45.178629: I tensorflow/tsl/framework/bfc_allocator.cc:1103] 1 Chunks of size 52173568 totalling 49.76MiB\n",
      "2023-05-11 15:00:45.178632: I tensorflow/tsl/framework/bfc_allocator.cc:1103] 1 Chunks of size 188160000 totalling 179.44MiB\n",
      "2023-05-11 15:00:45.178635: I tensorflow/tsl/framework/bfc_allocator.cc:1107] Sum Total of in-use chunks: 404.40MiB\n",
      "2023-05-11 15:00:45.178639: I tensorflow/tsl/framework/bfc_allocator.cc:1109] Total bytes in pool: 994544640 memory_limit_: 994544844 available bytes: 204 curr_region_allocation_bytes_: 1989089792\n",
      "2023-05-11 15:00:45.178648: I tensorflow/tsl/framework/bfc_allocator.cc:1114] Stats: \n",
      "Limit:                       994544844\n",
      "InUse:                       424046336\n",
      "MaxInUse:                    571004672\n",
      "NumAllocs:                       45940\n",
      "MaxAllocSize:                188220160\n",
      "Reserved:                            0\n",
      "PeakReserved:                        0\n",
      "LargestFreeBlock:                    0\n",
      "\n",
      "2023-05-11 15:00:45.178656: W tensorflow/tsl/framework/bfc_allocator.cc:497] ****x*******_**********_________________***********************_____________________________________\n",
      "2023-05-11 15:00:45.178686: W tensorflow/core/framework/op_kernel.cc:1830] OP_REQUIRES failed at conv_ops.cc:629 : RESOURCE_EXHAUSTED: OOM when allocating tensor with shape[10000,28,28,32] and type float on /job:localhost/replica:0/task:0/device:GPU:0 by allocator GPU_0_bfc\n"
     ]
    },
    {
     "ename": "ResourceExhaustedError",
     "evalue": "{{function_node __wrapped__Conv2D_device_/job:localhost/replica:0/task:0/device:GPU:0}} OOM when allocating tensor with shape[10000,28,28,32] and type float on /job:localhost/replica:0/task:0/device:GPU:0 by allocator GPU_0_bfc [Op:Conv2D]",
     "output_type": "error",
     "traceback": [
      "\u001b[0;31m---------------------------------------------------------------------------\u001b[0m",
      "\u001b[0;31mResourceExhaustedError\u001b[0m                    Traceback (most recent call last)",
      "Cell \u001b[0;32mIn[67], line 1\u001b[0m\n\u001b[0;32m----> 1\u001b[0m test_pred \u001b[39m=\u001b[39m conv_net(x_test)\n\u001b[1;32m      2\u001b[0m acc_test \u001b[39m=\u001b[39m accuracy(test_pred, y_test)\n\u001b[1;32m      3\u001b[0m \u001b[39mprint\u001b[39m(\u001b[39m\"\u001b[39m\u001b[39mAccuracy: \u001b[39m\u001b[39m\"\u001b[39m, acc_test)\n",
      "Cell \u001b[0;32mIn[65], line 24\u001b[0m, in \u001b[0;36mconv_net\u001b[0;34m(x)\u001b[0m\n\u001b[1;32m     22\u001b[0m \u001b[39mdef\u001b[39;00m \u001b[39mconv_net\u001b[39m(x):\n\u001b[1;32m     23\u001b[0m  x \u001b[39m=\u001b[39m tf\u001b[39m.\u001b[39mreshape(x, [\u001b[39m-\u001b[39m\u001b[39m1\u001b[39m,\u001b[39m28\u001b[39m,\u001b[39m28\u001b[39m,\u001b[39m1\u001b[39m])\n\u001b[0;32m---> 24\u001b[0m  conv1 \u001b[39m=\u001b[39m conv2d(x,weights[\u001b[39m'\u001b[39;49m\u001b[39mwc1\u001b[39;49m\u001b[39m'\u001b[39;49m],biases[\u001b[39m'\u001b[39;49m\u001b[39mbc1\u001b[39;49m\u001b[39m'\u001b[39;49m])\u001b[39m# 28*28*32\u001b[39;00m\n\u001b[1;32m     25\u001b[0m  conv1 \u001b[39m=\u001b[39m maxpool2d(conv1) \u001b[39m#14*14*32\u001b[39;00m\n\u001b[1;32m     27\u001b[0m  conv2 \u001b[39m=\u001b[39m conv2d(conv1,weights[\u001b[39m'\u001b[39m\u001b[39mwc2\u001b[39m\u001b[39m'\u001b[39m],biases[\u001b[39m'\u001b[39m\u001b[39mbc2\u001b[39m\u001b[39m'\u001b[39m])\u001b[39m# 28*28*64\u001b[39;00m\n",
      "Cell \u001b[0;32mIn[65], line 2\u001b[0m, in \u001b[0;36mconv2d\u001b[0;34m(x, w, b, strides)\u001b[0m\n\u001b[1;32m      1\u001b[0m \u001b[39mdef\u001b[39;00m \u001b[39mconv2d\u001b[39m(x, w,b,strides \u001b[39m=\u001b[39m\u001b[39m1\u001b[39m):\n\u001b[0;32m----> 2\u001b[0m  x \u001b[39m=\u001b[39m tf\u001b[39m.\u001b[39;49mnn\u001b[39m.\u001b[39;49mconv2d(x,w,strides\u001b[39m=\u001b[39;49m[\u001b[39m1\u001b[39;49m,strides,strides,\u001b[39m1\u001b[39;49m],padding\u001b[39m=\u001b[39;49m\u001b[39m'\u001b[39;49m\u001b[39mSAME\u001b[39;49m\u001b[39m'\u001b[39;49m)\n\u001b[1;32m      3\u001b[0m  x \u001b[39m=\u001b[39m tf\u001b[39m.\u001b[39mnn\u001b[39m.\u001b[39mbias_add(x,b)\n\u001b[1;32m      4\u001b[0m  \u001b[39mreturn\u001b[39;00m tf\u001b[39m.\u001b[39mnn\u001b[39m.\u001b[39mrelu(x)\n",
      "File \u001b[0;32m~/miniconda3/envs/tf-gpu/lib/python3.10/site-packages/tensorflow/python/util/traceback_utils.py:153\u001b[0m, in \u001b[0;36mfilter_traceback.<locals>.error_handler\u001b[0;34m(*args, **kwargs)\u001b[0m\n\u001b[1;32m    151\u001b[0m \u001b[39mexcept\u001b[39;00m \u001b[39mException\u001b[39;00m \u001b[39mas\u001b[39;00m e:\n\u001b[1;32m    152\u001b[0m   filtered_tb \u001b[39m=\u001b[39m _process_traceback_frames(e\u001b[39m.\u001b[39m__traceback__)\n\u001b[0;32m--> 153\u001b[0m   \u001b[39mraise\u001b[39;00m e\u001b[39m.\u001b[39mwith_traceback(filtered_tb) \u001b[39mfrom\u001b[39;00m \u001b[39mNone\u001b[39;00m\n\u001b[1;32m    154\u001b[0m \u001b[39mfinally\u001b[39;00m:\n\u001b[1;32m    155\u001b[0m   \u001b[39mdel\u001b[39;00m filtered_tb\n",
      "File \u001b[0;32m~/miniconda3/envs/tf-gpu/lib/python3.10/site-packages/tensorflow/python/framework/ops.py:7262\u001b[0m, in \u001b[0;36mraise_from_not_ok_status\u001b[0;34m(e, name)\u001b[0m\n\u001b[1;32m   7260\u001b[0m \u001b[39mdef\u001b[39;00m \u001b[39mraise_from_not_ok_status\u001b[39m(e, name):\n\u001b[1;32m   7261\u001b[0m   e\u001b[39m.\u001b[39mmessage \u001b[39m+\u001b[39m\u001b[39m=\u001b[39m (\u001b[39m\"\u001b[39m\u001b[39m name: \u001b[39m\u001b[39m\"\u001b[39m \u001b[39m+\u001b[39m name \u001b[39mif\u001b[39;00m name \u001b[39mis\u001b[39;00m \u001b[39mnot\u001b[39;00m \u001b[39mNone\u001b[39;00m \u001b[39melse\u001b[39;00m \u001b[39m\"\u001b[39m\u001b[39m\"\u001b[39m)\n\u001b[0;32m-> 7262\u001b[0m   \u001b[39mraise\u001b[39;00m core\u001b[39m.\u001b[39m_status_to_exception(e) \u001b[39mfrom\u001b[39;00m \u001b[39mNone\u001b[39;00m\n",
      "\u001b[0;31mResourceExhaustedError\u001b[0m: {{function_node __wrapped__Conv2D_device_/job:localhost/replica:0/task:0/device:GPU:0}} OOM when allocating tensor with shape[10000,28,28,32] and type float on /job:localhost/replica:0/task:0/device:GPU:0 by allocator GPU_0_bfc [Op:Conv2D]"
     ]
    }
   ],
   "source": [
    "test_pred = conv_net(x_test)\n",
    "acc_test = accuracy(test_pred, y_test)\n",
    "print(\"Accuracy: \", acc_test)\n"
   ]
  },
  {
   "cell_type": "code",
   "execution_count": 68,
   "metadata": {},
   "outputs": [
    {
     "data": {
      "image/png": "[encoded data removed]",
      "text/plain": [
       "<Figure size 640x480 with 1 Axes>"
      ]
     },
     "metadata": {},
     "output_type": "display_data"
    },
    {
     "name": "stdout",
     "output_type": "stream",
     "text": [
      "Predict:  [0.11385925 0.1111527  0.08878183 0.08613863 0.09727655 0.09938335\n",
      " 0.0891812  0.13551699 0.07200667 0.10670278]\n",
      "Predict:  7\n"
     ]
    },
    {
     "data": {
      "image/png": "[encoded data removed]",
      "text/plain": [
       "<Figure size 640x480 with 1 Axes>"
      ]
     },
     "metadata": {},
     "output_type": "display_data"
    },
    {
     "name": "stdout",
     "output_type": "stream",
     "text": [
      "Predict:  [0.10586441 0.10687148 0.12807295 0.11802588 0.08396509 0.0956976\n",
      " 0.10426534 0.08131274 0.08790935 0.08801512]\n",
      "Predict:  2\n"
     ]
    },
    {
     "data": {
      "image/png": "[encoded data removed]",
      "text/plain": [
       "<Figure size 640x480 with 1 Axes>"
      ]
     },
     "metadata": {},
     "output_type": "display_data"
    },
    {
     "name": "stdout",
     "output_type": "stream",
     "text": [
      "Predict:  [0.08566358 0.11455492 0.10636859 0.10202924 0.09369905 0.09465988\n",
      " 0.11956727 0.09975824 0.08729038 0.09640888]\n",
      "Predict:  6\n"
     ]
    },
    {
     "data": {
      "image/png": "[encoded data removed]",
      "text/plain": [
       "<Figure size 640x480 with 1 Axes>"
      ]
     },
     "metadata": {},
     "output_type": "display_data"
    },
    {
     "name": "stdout",
     "output_type": "stream",
     "text": [
      "Predict:  [0.15357682 0.09305196 0.11393946 0.11777843 0.10604878 0.07938412\n",
      " 0.10369486 0.10188027 0.05310445 0.07754087]\n",
      "Predict:  0\n"
     ]
    },
    {
     "data": {
      "image/png": "[encoded data removed]",
      "text/plain": [
       "<Figure size 640x480 with 1 Axes>"
      ]
     },
     "metadata": {},
     "output_type": "display_data"
    },
    {
     "name": "stdout",
     "output_type": "stream",
     "text": [
      "Predict:  [0.11771576 0.08134389 0.09560963 0.09223013 0.11313786 0.11582486\n",
      " 0.08821052 0.11270048 0.07233471 0.11089221]\n",
      "Predict:  0\n"
     ]
    },
    {
     "ename": "",
     "evalue": "",
     "output_type": "error",
     "traceback": [
      "\u001b[1;31mThe Kernel crashed while executing code in the the current cell or a previous cell. Please review the code in the cell(s) to identify a possible cause of the failure. Click <a href='https://aka.ms/vscodeJupyterKernelCrash'>here</a> for more info. View Jupyter <a href='command:jupyter.viewOutput'>log</a> for further details."
     ]
    }
   ],
   "source": [
    "import matplotlib.pyplot as plt\n",
    "import numpy as np\n",
    "n_images = 5\n",
    "test_image = x_test[:n_images]\n",
    "test_pred = conv_net(test_image)\n",
    "\n",
    "for i in range(n_images):\n",
    " plt.imshow(np.reshape(test_image[i], (28, 28)), cmap='gray')\n",
    " plt.show()\n",
    " print(\"Predict: \",test_pred[i].numpy())\n",
    " print(\"Predict: \",np.argmax(test_pred[i].numpy()))"
   ]
  }
 ],
 "metadata": {
  "kernelspec": {
   "display_name": "Python 3 (ipykernel)",
   "language": "python",
   "name": "python3"
  },
  "language_info": {
   "codemirror_mode": {
    "name": "ipython",
    "version": 3
   },
   "file_extension": ".py",
   "mimetype": "text/x-python",
   "name": "python",
   "nbconvert_exporter": "python",
   "pygments_lexer": "ipython3",
   "version": "3.10.10"
  },
  "orig_nbformat": 4
 },
 "nbformat": 4,
 "nbformat_minor": 2
}
