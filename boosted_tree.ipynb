{
 "cells": [
  {
   "cell_type": "code",
   "execution_count": 69,
   "metadata": {},
   "outputs": [
    {
     "name": "stdout",
     "output_type": "stream",
     "text": [
      "x train: (404, 13)\n",
      "y train: (404,)\n",
      "x test: (102, 13)\n",
      "y test: (102,)\n"
     ]
    }
   ],
   "source": [
    "import tensorflow as tf\n",
    "import numpy as np\n",
    "\n",
    "from tensorflow.keras.datasets import boston_housing\n",
    "\n",
    "(x_train, y_train),(x_test,y_test) = boston_housing.load_data()\n",
    "print(\"x train:\",x_train.shape)\n",
    "print(\"y train:\",y_train.shape)\n",
    "print(\"x test:\",x_test.shape)\n",
    "print(\"y test:\",y_test.shape)\n"
   ]
  },
  {
   "cell_type": "code",
   "execution_count": null,
   "metadata": {},
   "outputs": [],
   "source": []
  },
  {
   "cell_type": "code",
   "execution_count": 67,
   "metadata": {},
   "outputs": [
    {
     "name": "stdout",
     "output_type": "stream",
     "text": [
      "y_train_class [0. 1. 1. 0. 0.]\n",
      "y_test_class [0. 0. 0. 1. 0.]\n"
     ]
    }
   ],
   "source": [
    "def convert_class(y):\n",
    " for i, value in enumerate(y):\n",
    "  if value > 25.0:\n",
    "   y[i] =1\n",
    "  else: y[i] =0\n",
    " return y\n",
    "y_train_class = convert_class(y_train)\n",
    "y_test_class = convert_class(y_test)\n",
    "print (\"y_train_class\", y_train_class[0:5])\n",
    "print (\"y_test_class\", y_test_class[0:5])"
   ]
  },
  {
   "cell_type": "code",
   "execution_count": 68,
   "metadata": {},
   "outputs": [
    {
     "name": "stdout",
     "output_type": "stream",
     "text": [
      "feature_columns [NumericColumn(key='x', shape=(13,), default_value=None, dtype=tf.float32, normalizer_fn=None)]\n"
     ]
    }
   ],
   "source": [
    "#model parameter\n",
    "num_class = 2\n",
    "num_feature = 13\n",
    "max_step = 2000\n",
    "batch_size=256\n",
    "learning_rate = 1.0\n",
    "l1_regul= 0.0\n",
    "l2_regul = 0.1\n",
    "\n",
    "num_batches_per_layer = 1000\n",
    "number_trees = 10\n",
    "max_depth= 4\n",
    "\n",
    "\n",
    "\n",
    "train_input_fn = tf.compat.v1.estimator.inputs.numpy_input_fn(x={'x':x_train},y=y_train_class,batch_size=batch_size,num_epochs=None,shuffle=True)\n",
    "test_input_fn = tf.compat.v1.estimator.inputs.numpy_input_fn(x={'x':x_test},y=y_test_class,batch_size=batch_size,num_epochs=1,shuffle=False)\n",
    "\n",
    "test_train_input_fn = tf.compat.v1.estimator.inputs.numpy_input_fn(x={'x':x_train},y=y_train_class,batch_size=batch_size,num_epochs=1,shuffle=False)\n",
    "\n",
    "\n",
    "feature_columns = [tf.feature_column.numeric_column(key = 'x',shape=(num_feature))]\n",
    "print(\"feature_columns\",feature_columns)\n",
    "\n"
   ]
  },
  {
   "cell_type": "code",
   "execution_count": 15,
   "metadata": {},
   "outputs": [
    {
     "ename": "AttributeError",
     "evalue": "module 'tensorflow_estimator.python.estimator.api._v2.estimator' has no attribute 'BoostedTreesClassifier'",
     "output_type": "error",
     "traceback": [
      "\u001b[0;31m---------------------------------------------------------------------------\u001b[0m",
      "\u001b[0;31mAttributeError\u001b[0m                            Traceback (most recent call last)",
      "Cell \u001b[0;32mIn[15], line 1\u001b[0m\n\u001b[0;32m----> 1\u001b[0m gbt_classifier \u001b[39m=\u001b[39m tf\u001b[39m.\u001b[39;49mestimator\u001b[39m.\u001b[39;49mBoostedTreesClassifier(\n\u001b[1;32m      2\u001b[0m  num_batches_per_layer\u001b[39m=\u001b[39mnum_batches_per_layer,\n\u001b[1;32m      3\u001b[0m  feature_columns\u001b[39m=\u001b[39m feature_columns,\n\u001b[1;32m      4\u001b[0m  num_class \u001b[39m=\u001b[39m num_class,\n\u001b[1;32m      5\u001b[0m  learning_rate\u001b[39m=\u001b[39mlearning_rate,\n\u001b[1;32m      6\u001b[0m  number_trees \u001b[39m=\u001b[39m number_trees,\n\u001b[1;32m      7\u001b[0m  max_depth\u001b[39m=\u001b[39mmax_depth,\n\u001b[1;32m      8\u001b[0m  l1_regul\u001b[39m=\u001b[39ml1_regul,\n\u001b[1;32m      9\u001b[0m  l2_regul\u001b[39m=\u001b[39ml2_regul\n\u001b[1;32m     10\u001b[0m  )\n",
      "File \u001b[0;32m~/miniconda3/envs/tf-gpu/lib/python3.10/site-packages/tensorflow/python/util/lazy_loader.py:59\u001b[0m, in \u001b[0;36mLazyLoader.__getattr__\u001b[0;34m(self, item)\u001b[0m\n\u001b[1;32m     57\u001b[0m \u001b[39mdef\u001b[39;00m \u001b[39m__getattr__\u001b[39m(\u001b[39mself\u001b[39m, item):\n\u001b[1;32m     58\u001b[0m   module \u001b[39m=\u001b[39m \u001b[39mself\u001b[39m\u001b[39m.\u001b[39m_load()\n\u001b[0;32m---> 59\u001b[0m   \u001b[39mreturn\u001b[39;00m \u001b[39mgetattr\u001b[39;49m(module, item)\n",
      "\u001b[0;31mAttributeError\u001b[0m: module 'tensorflow_estimator.python.estimator.api._v2.estimator' has no attribute 'BoostedTreesClassifier'"
     ]
    }
   ],
   "source": [
    "#using tensorflow version 2.8.0\n",
    "gbt_classifier = tf.estimator.BoostedTreesClassifier(\n",
    " num_batches_per_layer=num_batches_per_layer,\n",
    " feature_columns= feature_columns,\n",
    " num_class = num_class,\n",
    " learning_rate=learning_rate,\n",
    " number_trees = number_trees,\n",
    " max_depth=max_depth,\n",
    " l1_regul=l1_regul,\n",
    " l2_regul=l2_regul\n",
    " )"
   ]
  }
 ],
 "metadata": {
  "kernelspec": {
   "display_name": "Python 3 (ipykernel)",
   "language": "python",
   "name": "python3"
  },
  "language_info": {
   "codemirror_mode": {
    "name": "ipython",
    "version": 3
   },
   "file_extension": ".py",
   "mimetype": "text/x-python",
   "name": "python",
   "nbconvert_exporter": "python",
   "pygments_lexer": "ipython3",
   "version": "3.10.10"
  },
  "orig_nbformat": 4
 },
 "nbformat": 4,
 "nbformat_minor": 2
}
